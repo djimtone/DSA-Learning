{
 "cells": [
  {
   "cell_type": "markdown",
   "metadata": {},
   "source": [
    "# Linked Lists"
   ]
  },
  {
   "cell_type": "markdown",
   "metadata": {},
   "source": [
    "# DSA Linked Lists"
   ]
  },
  {
   "cell_type": "code",
   "execution_count": null,
   "metadata": {},
   "outputs": [],
   "source": [
    "# A Linked Lists is, as the word implies, a list where the nodes are linked together. Each node contains data and a pointer. The way they are linked together\n",
    "# is that each node points to where in the memory the next node is placed.\n",
    "\n",
    "#A linked list consists of nodes with some sort data, and a pointer, or link, to the next node.\n",
    "\n",
    "#A big benefit with using linked lists is that nodes are stored wherever there is free space in memory, the nodes do not have to be stored continuously right\n",
    "#after each other like elements are stored in arrays. Another nice thing with linked lists is that when adding or removing nodes, the rest of the nodes in\n",
    "# the list do not have to be shifted."
   ]
  },
  {
   "cell_type": "markdown",
   "metadata": {},
   "source": [
    "# Linked Lists vs Arrays"
   ]
  },
  {
   "cell_type": "code",
   "execution_count": null,
   "metadata": {},
   "outputs": [],
   "source": [
    "#The easiest way to understand linked lists is perhaps by comparing linked lists with arrays.\n",
    "#Linked lists consists of nodes, and is a linear data structure we make ourselves, unlike arrays which is an existing data structure in the programming\n",
    "#language that we can use."
   ]
  },
  {
   "cell_type": "markdown",
   "metadata": {},
   "source": [
    "# DSA Linked Lists in Memory"
   ]
  },
  {
   "cell_type": "code",
   "execution_count": 1,
   "metadata": {},
   "outputs": [
    {
     "name": "stdout",
     "output_type": "stream",
     "text": [
      "3 -> 5 -> 13 -> 2 -> null\n"
     ]
    }
   ],
   "source": [
    "#To explain what linked lists are, and how linked lists are different from arrays, we need to understand some basics about how computer memory works. \n",
    "#Computer memory is the storage your program uses when it is running. This is where your variables, arrays and linked lists are stored.\n",
    "\n",
    "#Arrays in Memory\n",
    "#To understand linked lists, it is useful to first know how arrays are stored in memory. Elements in an array are stored continuously in memory.\n",
    "\n",
    "class Node:\n",
    "    def __init__(self, data):\n",
    "        self.data = data\n",
    "        self.next = None\n",
    "\n",
    "node1 = Node(3)\n",
    "node2 = Node(5)\n",
    "node3 = Node(13)\n",
    "node4 = Node(2)\n",
    "\n",
    "node1.next = node2\n",
    "node2.next = node3\n",
    "node3.next = node4\n",
    "\n",
    "currentNode = node1\n",
    "\n",
    "while currentNode:\n",
    "    print(currentNode.data, end=\" -> \")\n",
    "    currentNode = currentNode.next\n",
    "\n",
    "print(\"null\")"
   ]
  },
  {
   "cell_type": "markdown",
   "metadata": {},
   "source": [
    "# DSA Linked Lists Types"
   ]
  },
  {
   "cell_type": "code",
   "execution_count": null,
   "metadata": {},
   "outputs": [],
   "source": [
    "#Types of Linked Lists\n",
    "\n",
    "#There are three basic forms of linked lists\n",
    "#1. Singly linked lists\n",
    "#2. Doubly linked lists\n",
    "#3. Circular linked lists\n",
    "\n",
    "#A singly linked list is the simplest kind of linked lists. It takes up less space in memory because each node has only one address to the next node.\n",
    "\n",
    "#A doubly linked list has nodes with addresses to both the previous and the next node, and therefore takes up more memory. But doubly linked lists are good \n",
    "#if you want to be able to move both up and down in the list.\n",
    "\n",
    "#A circular linked list is like a singly or doubly linked list with the first node, the \"head\", and the last node, the \"tail\", connected.\n",
    "#Circular linked lists are good for lists you need to cycle through continuously."
   ]
  },
  {
   "cell_type": "markdown",
   "metadata": {},
   "source": [
    "# Singly Linked List Implementation"
   ]
  },
  {
   "cell_type": "code",
   "execution_count": 2,
   "metadata": {},
   "outputs": [
    {
     "name": "stdout",
     "output_type": "stream",
     "text": [
      "3 -> 5 -> 13 -> 2 -> null\n"
     ]
    }
   ],
   "source": [
    "class Node:\n",
    "    def __init__(self, data):\n",
    "        self.data = data\n",
    "        self.next = None\n",
    "\n",
    "\n",
    "node1 = Node(3)\n",
    "node2 = Node(5)\n",
    "node3 = Node(13)\n",
    "node4 = Node(2)\n",
    "\n",
    "node1.next = node2\n",
    "node2.next = node3\n",
    "node3.next = node4\n",
    "\n",
    "currentNode = node1\n",
    "while currentNode:\n",
    "    print(currentNode.data, end=\" -> \")\n",
    "    currentNode = currentNode.next\n",
    "\n",
    "print(\"null\")"
   ]
  },
  {
   "cell_type": "markdown",
   "metadata": {},
   "source": [
    "# Doubly Linked List Implementation"
   ]
  },
  {
   "cell_type": "code",
   "execution_count": 3,
   "metadata": {},
   "outputs": [
    {
     "name": "stdout",
     "output_type": "stream",
     "text": [
      "\n",
      "Traversing Forward:\n",
      "3 -> 5 -> 13 -> 2 -> null\n",
      "\n",
      " Traversing Backward:\n",
      "2 -> 13 -> 5 -> 3 -> null\n"
     ]
    }
   ],
   "source": [
    "class Node:\n",
    "    def __init__(self, data):\n",
    "        self.data = data\n",
    "        self.next = None\n",
    "        self.prev = None\n",
    "\n",
    "node1 = Node(3)\n",
    "node2 = Node(5)\n",
    "node3 = Node(13)\n",
    "node4 = Node(2)\n",
    "\n",
    "node1.next = node2\n",
    "\n",
    "node2.prev = node1\n",
    "node2.next = node3\n",
    "\n",
    "node3.prev = node2\n",
    "node3.next = node4\n",
    "\n",
    "node4.prev = node3\n",
    "\n",
    "print(\"\\nTraversing Forward:\")\n",
    "currentNode = node1\n",
    "while currentNode:\n",
    "    print(currentNode.data, end=\" -> \")\n",
    "    currentNode = currentNode.next\n",
    "\n",
    "print(\"null\")\n",
    "\n",
    "print(\"\\n Traversing Backward:\")\n",
    "currentNode = node4\n",
    "while currentNode:\n",
    "    print(currentNode.data, end=\" -> \")\n",
    "    currentNode = currentNode.prev\n",
    "\n",
    "print(\"null\")"
   ]
  },
  {
   "cell_type": "markdown",
   "metadata": {},
   "source": [
    "# Circular Singly Linked List Implementation"
   ]
  },
  {
   "cell_type": "code",
   "execution_count": 4,
   "metadata": {},
   "outputs": [
    {
     "name": "stdout",
     "output_type": "stream",
     "text": [
      "3 -> 5 -> 13 -> 2 -> ...\n"
     ]
    }
   ],
   "source": [
    "class Node:\n",
    "    def __init__(self, data):\n",
    "        self.data = data\n",
    "        self.next = None\n",
    "    \n",
    "node1 = Node(3)\n",
    "node2 = Node(5)\n",
    "node3 = Node(13)\n",
    "node4 = Node(2)\n",
    "\n",
    "node1.next = node2\n",
    "node2.next = node3\n",
    "node3.next = node4\n",
    "node4.next = node1\n",
    "\n",
    "currentNode = node1\n",
    "startNode = node1\n",
    "print(currentNode.data, end=\" -> \") \n",
    "currentNode = currentNode.next \n",
    "\n",
    "while currentNode != startNode:\n",
    "    print(currentNode.data, end=\" -> \")\n",
    "    currentNode = currentNode.next\n",
    "\n",
    "print(\"...\")"
   ]
  },
  {
   "cell_type": "markdown",
   "metadata": {},
   "source": [
    "# Circular Doubly Linked List Implementation"
   ]
  },
  {
   "cell_type": "code",
   "execution_count": 5,
   "metadata": {},
   "outputs": [
    {
     "name": "stdout",
     "output_type": "stream",
     "text": [
      "\n",
      "Traversing forward:\n",
      "3 -> 5 -> 13 -> 2 -> ...\n",
      "\n",
      "Traversing backward:\n",
      "2 -> 13 -> 5 -> 3 -> ...\n"
     ]
    }
   ],
   "source": [
    "class Node:\n",
    "    def __init__(self, data):\n",
    "        self.data = data\n",
    "        self.next = None\n",
    "        self.prev = None\n",
    "\n",
    "node1 = Node(3)\n",
    "node2 = Node(5)\n",
    "node3 = Node(13)\n",
    "node4 = Node(2)\n",
    "\n",
    "node1.next = node2\n",
    "node1.prev = node4\n",
    "\n",
    "node2.prev = node1\n",
    "node2.next = node3\n",
    "\n",
    "node3.prev = node2\n",
    "node3.next = node4\n",
    "\n",
    "node4.prev = node3\n",
    "node4.next = node1\n",
    "\n",
    "print(\"\\nTraversing forward:\")\n",
    "currentNode = node1\n",
    "startNode = node1\n",
    "print(currentNode.data, end=\" -> \")\n",
    "currentNode = currentNode.next\n",
    "\n",
    "while currentNode != startNode:\n",
    "    print(currentNode.data, end=\" -> \")\n",
    "    currentNode = currentNode.next\n",
    "print(\"...\")\n",
    "\n",
    "print(\"\\nTraversing backward:\")\n",
    "currentNode = node4\n",
    "startNode = node4\n",
    "print(currentNode.data, end=\" -> \")\n",
    "currentNode = currentNode.prev\n",
    "\n",
    "while currentNode != startNode:\n",
    "    print(currentNode.data, end=\" -> \")\n",
    "    currentNode = currentNode.prev\n",
    "print(\"...\")"
   ]
  },
  {
   "cell_type": "markdown",
   "metadata": {},
   "source": [
    "# DSA Linked Lists Operations"
   ]
  },
  {
   "cell_type": "code",
   "execution_count": null,
   "metadata": {},
   "outputs": [],
   "source": [
    "#Basic things we can do with linked lists are:\n",
    "\n",
    "#1. Traversal \n",
    "#2. Remove a node\n",
    "#3. Insert a node\n",
    "#4. Sort"
   ]
  },
  {
   "cell_type": "markdown",
   "metadata": {},
   "source": [
    "## Traversal of a Linked List"
   ]
  },
  {
   "cell_type": "code",
   "execution_count": 1,
   "metadata": {},
   "outputs": [
    {
     "name": "stdout",
     "output_type": "stream",
     "text": [
      "7 -> 11 -> 3 -> 2 -> 9 -> null\n"
     ]
    }
   ],
   "source": [
    "# Traversing a linked list means to go through the linked list by following the links from one node to the next.\n",
    "#Traversal of linked lists is typically done to search for a specific node, and read or modify the node's content, remove the node, or insert a node right\n",
    "#before or after that node.\n",
    "\n",
    "class Node:\n",
    "    def __init__(self, data):\n",
    "        self.data = data\n",
    "        self.next = None\n",
    "\n",
    "\n",
    "def traverseAndPrint(head):\n",
    "    currentNode = head\n",
    "    while currentNode:\n",
    "        print(currentNode.data, end=\" -> \")\n",
    "        currentNode = currentNode.next\n",
    "\n",
    "    print(\"null\")\n",
    "\n",
    "node1 = Node(7)\n",
    "node2 = Node(11)\n",
    "node3 = Node(3)\n",
    "node4 = Node(2)\n",
    "node5 = Node(9)\n",
    "\n",
    "node1.next = node2\n",
    "node2.next = node3\n",
    "node3.next = node4\n",
    "node4.next = node5\n",
    "\n",
    "traverseAndPrint(node1)"
   ]
  },
  {
   "cell_type": "markdown",
   "metadata": {},
   "source": [
    "## Find The Lowest Value in a Linked List"
   ]
  },
  {
   "cell_type": "code",
   "execution_count": 3,
   "metadata": {},
   "outputs": [
    {
     "name": "stdout",
     "output_type": "stream",
     "text": [
      "The Lowest value in the linked list is: 2\n"
     ]
    }
   ],
   "source": [
    "#Let's find the lowest value in a singly linked list by traversing it and checking each value.\n",
    "class Node:\n",
    "    def __init__(self, data):\n",
    "        self.data = data\n",
    "        self.next = None\n",
    "\n",
    "def findLowestValue(head):\n",
    "    minValue = head.data\n",
    "    currentNode = head.next\n",
    "\n",
    "    while currentNode:\n",
    "        if currentNode.data < minValue:\n",
    "            minValue = currentNode.data\n",
    "\n",
    "        currentNode = currentNode.next\n",
    "    return minValue\n",
    "\n",
    "node1 = Node(7)\n",
    "node2 = Node(11)\n",
    "node3 = Node(3)\n",
    "node4 = Node(2)\n",
    "node5 = Node(9)\n",
    "\n",
    "node1.next = node2\n",
    "node2.next = node3\n",
    "node3.next = node4\n",
    "node4.next = node5\n",
    "\n",
    "print(\"The Lowest value in the linked list is:\", findLowestValue(node1))\n"
   ]
  },
  {
   "cell_type": "markdown",
   "metadata": {},
   "source": [
    "## Delete a Node in a Linked List"
   ]
  },
  {
   "cell_type": "code",
   "execution_count": 4,
   "metadata": {},
   "outputs": [
    {
     "name": "stdout",
     "output_type": "stream",
     "text": [
      "Before deletion: \n",
      "7 -> 11 -> 3 -> 2 -> 9 -> null\n",
      "\n",
      "After deletion: \n",
      "7 -> 11 -> 3 -> 9 -> null\n"
     ]
    }
   ],
   "source": [
    "#It is important to connect the nodes on each side of the node before deleting it, so that the linked list is not broken.\n",
    "#So before deleting the node, we need to get the next pointer from the previous node, and connect the previous node to the new next node before deleting \n",
    "# the node in between\n",
    "\n",
    "class Node:\n",
    "    def __init__(self, data):\n",
    "        self.data = data\n",
    "        self.next = None\n",
    "\n",
    "def traverseAndPrint(head):\n",
    "    currentNode = head\n",
    "    while currentNode:\n",
    "        print(currentNode.data, end=\" -> \")\n",
    "        currentNode = currentNode.next\n",
    "\n",
    "    print(\"null\")\n",
    "\n",
    "def deleteSpecificNode(head, nodeToDelete):\n",
    "    if head == nodeToDelete:\n",
    "        return head.next\n",
    "    \n",
    "    currentNode = head\n",
    "    while currentNode.next and currentNode.next != nodeToDelete:\n",
    "        currentNode = currentNode.next\n",
    "\n",
    "    if currentNode.next is None:\n",
    "        return head\n",
    "    \n",
    "    currentNode.next = currentNode.next.next\n",
    "\n",
    "    return head\n",
    "\n",
    "node1 = Node(7)\n",
    "node2 = Node(11)\n",
    "node3 = Node(3)\n",
    "node4 = Node(2)\n",
    "node5 = Node(9)\n",
    "\n",
    "node1.next = node2\n",
    "node2.next = node3\n",
    "node3.next = node4\n",
    "node4.next = node5\n",
    "\n",
    "print(\"Before deletion: \")\n",
    "traverseAndPrint(node1)\n",
    "\n",
    "#Delete node4\n",
    "node1 = deleteSpecificNode(node1, node4)\n",
    "\n",
    "print(\"\\nAfter deletion: \")\n",
    "traverseAndPrint(node1)"
   ]
  },
  {
   "cell_type": "markdown",
   "metadata": {},
   "source": [
    "## Insert a Node in a Linked List"
   ]
  },
  {
   "cell_type": "code",
   "execution_count": 5,
   "metadata": {},
   "outputs": [
    {
     "name": "stdout",
     "output_type": "stream",
     "text": [
      "Original list:\n",
      "7 -> 3 -> 2 -> 9 -> null\n",
      "\n",
      "After insertion:\n",
      "7 -> 97 -> 3 -> 2 -> 9 -> null\n"
     ]
    }
   ],
   "source": [
    "#Inserting a node into a linked list is very similar to deleting a node, because in both cases we need to take care of the next pointers to make sure\n",
    "#we do not break the linked list.\n",
    "\n",
    "#To insert a node in a linked list we first need to create the node, and then at the position where we insert it, we need to adjust the pointers so that\n",
    "#the previous node points to the new node, and the new node points to the correct next node. \n",
    "\n",
    "#1. New node is created\n",
    "#2. Node x is linked to new node\n",
    "#3. New node is linked to next node.\n",
    "\n",
    "class Node:\n",
    "    def __init__(self, data):\n",
    "        self.data = data\n",
    "        self.next = None\n",
    "\n",
    "def traverseAndPrint(head):\n",
    "    currentNode = head\n",
    "    while currentNode:\n",
    "        print(currentNode.data, end=\" -> \")\n",
    "        currentNode = currentNode.next\n",
    "\n",
    "    print(\"null\")\n",
    "\n",
    "def insertNodeAtPosition(head, newNode, position):\n",
    "    if position == 1:\n",
    "        newNode.next = head\n",
    "        return newNode\n",
    "    \n",
    "    currentNode = head\n",
    "    for _ in range(position - 2):\n",
    "        if currentNode is None:\n",
    "            break\n",
    "        currentNode = currentNode.next\n",
    "\n",
    "    newNode.next = currentNode.next\n",
    "    currentNode.next = newNode\n",
    "    return head\n",
    "\n",
    "node1 = Node(7)\n",
    "node2 = Node(3)\n",
    "node3 = Node(2)\n",
    "node4 = Node(9)\n",
    "\n",
    "node1.next = node2\n",
    "node2.next = node3\n",
    "node3.next = node4\n",
    "\n",
    "print(\"Original list:\")\n",
    "traverseAndPrint(node1)\n",
    "\n",
    "#Insert a new node with value 97 at position 2\n",
    "newNode = Node(97)\n",
    "node1 = insertNodeAtPosition(node1, newNode, 2)\n",
    "\n",
    "print(\"\\nAfter insertion:\")\n",
    "traverseAndPrint(node1)"
   ]
  },
  {
   "cell_type": "code",
   "execution_count": null,
   "metadata": {},
   "outputs": [],
   "source": []
  },
  {
   "cell_type": "code",
   "execution_count": null,
   "metadata": {},
   "outputs": [],
   "source": []
  }
 ],
 "metadata": {
  "kernelspec": {
   "display_name": "Python 3",
   "language": "python",
   "name": "python3"
  },
  "language_info": {
   "codemirror_mode": {
    "name": "ipython",
    "version": 3
   },
   "file_extension": ".py",
   "mimetype": "text/x-python",
   "name": "python",
   "nbconvert_exporter": "python",
   "pygments_lexer": "ipython3",
   "version": "3.12.2"
  }
 },
 "nbformat": 4,
 "nbformat_minor": 2
}
