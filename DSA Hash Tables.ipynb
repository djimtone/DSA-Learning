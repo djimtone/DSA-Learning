{
 "cells": [
  {
   "cell_type": "markdown",
   "metadata": {},
   "source": [
    "# DSA Hash Tables"
   ]
  },
  {
   "cell_type": "code",
   "execution_count": null,
   "metadata": {},
   "outputs": [],
   "source": [
    "#A Hash Table is a data structure designed to be fast to work with.\n",
    "#A reason Hash Tables are sometines preferrred instead of arrays or linked lists is because searching for, adding, and deleting data can be done really\n",
    "# quickly, even for large amounts of data.\n",
    "\n",
    "# Building A Hash Table from Scratch\n",
    "# We will build the Hash Set in 5 steps:\n",
    "\n",
    "# 1. Starting with an array\n",
    "# 2. Storing names using a hash function\n",
    "# 3. Looking up an element using a hash function\n",
    "# 4. Handling colisions\n",
    "# 5. The basic Hash Set code example and simulation "
   ]
  },
  {
   "cell_type": "markdown",
   "metadata": {},
   "source": [
    "### Step1: Starting with an array"
   ]
  },
  {
   "cell_type": "code",
   "execution_count": 1,
   "metadata": {},
   "outputs": [],
   "source": [
    "#Using an array, we could store names like this:\n",
    "\n",
    "my_array = ['Djim', 'Emma', 'Moussa', 'Michel', 'James']\n",
    "\n",
    "#To find \"Michel\" in this array, we need to compare each name, element by element, until we find \"Michel\"\n"
   ]
  },
  {
   "cell_type": "markdown",
   "metadata": {},
   "source": [
    "### Step2: Storing names using a hash function"
   ]
  },
  {
   "cell_type": "code",
   "execution_count": 6,
   "metadata": {},
   "outputs": [
    {
     "name": "stdout",
     "output_type": "stream",
     "text": [
      "'Michel' has hash code: 4\n"
     ]
    }
   ],
   "source": [
    "# Now comes the special way we interact with the Hash Set we are making.\n",
    "# We want to store a name directly into its right place in the array, and this is where the hash function comes in.\n",
    "def hash_function(value):\n",
    "    sum_of_chars = 0\n",
    "    for char in value:\n",
    "        sum_of_chars += ord(char)\n",
    "\n",
    "    return sum_of_chars % 10\n",
    "print(\"'Michel' has hash code:\", hash_function('Michel'))"
   ]
  },
  {
   "cell_type": "markdown",
   "metadata": {},
   "source": [
    "### Step3: Looking up a name using a hash function"
   ]
  },
  {
   "cell_type": "code",
   "execution_count": 7,
   "metadata": {},
   "outputs": [
    {
     "name": "stdout",
     "output_type": "stream",
     "text": [
      " 'Pete' is in the Hash Set: True\n"
     ]
    }
   ],
   "source": [
    "# We have now established a super basic Hash Set, because we do not have to check the array element by element anymore to find out 'Pete' is in there, we can\n",
    "# just use the hash function to go straight to the right element.\n",
    "\n",
    "my_hash_set = [None, 'Jones', None, 'Lisa', None, 'Bob', None, 'Siri', 'Pete', None] \n",
    "\n",
    "def hash_function(value):\n",
    "    sum_of_chars = 0\n",
    "    for char in value:\n",
    "        sum_of_chars += ord(char)\n",
    "\n",
    "    return sum_of_chars % 10\n",
    "\n",
    "def contains(name):\n",
    "    index = hash_function(name)\n",
    "    return my_hash_set[index] == name\n",
    "\n",
    "print(\" 'Pete' is in the Hash Set:\", contains('Pete'))"
   ]
  },
  {
   "cell_type": "markdown",
   "metadata": {},
   "source": [
    "### Step4: Handling collisions"
   ]
  },
  {
   "cell_type": "code",
   "execution_count": 9,
   "metadata": {},
   "outputs": [],
   "source": [
    "my_hash_set = [\n",
    "    [None],\n",
    "    ['Jones'],\n",
    "    [None], \n",
    "    ['Lisa', 'Stuart'],\n",
    "    [None], \n",
    "    ['Bob'],\n",
    "    [None],\n",
    "    ['Siri'],\n",
    "    ['Pete'],\n",
    "    [None]\n",
    "]\n",
    "\n",
    "# Searching for \"Stuart\" in our Hash Set now means that using the hash function we end up directly in bucket 3, but then be must first check \"Lisa\"\n",
    "# in that bucket, before we find \"Stuart\" as the second element in bucket 3.\n"
   ]
  },
  {
   "cell_type": "markdown",
   "metadata": {},
   "source": [
    "### Step5: Hash Set code example and simulation"
   ]
  },
  {
   "cell_type": "code",
   "execution_count": 12,
   "metadata": {},
   "outputs": [
    {
     "name": "stdout",
     "output_type": "stream",
     "text": [
      "[[None], ['Jones'], [None], ['Lisa', 'Stuart'], [None], ['Bob'], [None], ['Siri'], ['Pete'], [None]]\n",
      "Contains Stuart: True\n"
     ]
    }
   ],
   "source": [
    "#To complete our very basic Hash Set code, let's have functions for adding and searching for names in the Hash Set, which is now a two dimensional array.\n",
    "\n",
    "my_hash_set = [\n",
    "    [None],\n",
    "    ['Jones'],\n",
    "    [None],\n",
    "    ['Lisa'],\n",
    "    [None],\n",
    "    ['Bob'],\n",
    "    [None],\n",
    "    ['Siri'],\n",
    "    ['Pete'],\n",
    "    [None]\n",
    "]\n",
    "def hash_function(value):\n",
    "    return sum(ord(char) for char in value) % 10\n",
    "\n",
    "def add(value):\n",
    "    index = hash_function(value)\n",
    "    bucket = my_hash_set[index]\n",
    "    if value not in bucket:\n",
    "        bucket.append(value)\n",
    "\n",
    "def contains(value):\n",
    "    index = hash_function(value)\n",
    "    bucket = my_hash_set[index]\n",
    "    return value in bucket\n",
    "\n",
    "add('Stuart')\n",
    "\n",
    "print(my_hash_set)\n",
    "print('Contains Stuart:', contains('Stuart'))"
   ]
  },
  {
   "cell_type": "markdown",
   "metadata": {},
   "source": [
    "# DSA Hash Sets"
   ]
  },
  {
   "cell_type": "code",
   "execution_count": null,
   "metadata": {},
   "outputs": [],
   "source": [
    "# A Hash Set is a form of Hash Table data structure that usually holds a large number of elements. Using a Hash Set we can search, add, and remove elements\n",
    "# really fast. Hash Sets are used for lookup, to check if an element is part of a set. A Hash Set stores unique elements in buckets according to the \n",
    "# element's hash code.\n",
    "\n",
    "\n",
    "# Hash code: A number generated from an element's unique value (key), to determine what bucket that Hash Set element belongs to.\n",
    "# Unique elements: A Hash Set cannot have more than one element with the same value.\n",
    "# Bucket: A Hash Set consists of many such buckets, or containers, to store elements. If two elements have the same hash code, they belong to the same bucket.\n",
    "# The buckets are therefore often implemented as arrays or linked lists, because a bucket needs to be able to hold more than one element.\n",
    "\n",
    "# A hash code is generated by a hash function."
   ]
  },
  {
   "cell_type": "markdown",
   "metadata": {},
   "source": [
    "## Hash Set Implementation"
   ]
  },
  {
   "cell_type": "code",
   "execution_count": 13,
   "metadata": {},
   "outputs": [
    {
     "name": "stdout",
     "output_type": "stream",
     "text": [
      "Hash Set contains:\n",
      "Bucket 0: ['Thomas', 'Jens']\n",
      "Bucket 1: []\n",
      "Bucket 2: ['Peter']\n",
      "Bucket 3: ['Lisa']\n",
      "Bucket 4: ['Charlotte']\n",
      "Bucket 5: ['Adele', 'Bob']\n",
      "Bucket 6: []\n",
      "Bucket 7: []\n",
      "Bucket 8: ['Michaela']\n",
      "Bucket 9: []\n",
      "\n",
      "'Peter' is in the set: True\n",
      "Removing 'Peter'\n",
      "'Peter' is in the set: False\n",
      "'Adele' has hash code: 5\n"
     ]
    }
   ],
   "source": [
    "class SimpleHashSet:\n",
    "    def __init__(self, size=100):\n",
    "        self.size = size\n",
    "        self.buckets = [[] for _ in range(size)] # A list of buckets, each is a list(to handle collisions)\n",
    "\n",
    "    def hash_function(self, value):\n",
    "        #Simple hash function: sum of character codes modulo the number of buckets\n",
    "        return sum(ord(char) for char in value) % self.size\n",
    "    \n",
    "    def add(self, value):\n",
    "        # Add a value if it's not already present\n",
    "        index = self.hash_function(value)\n",
    "        bucket = self.buckets[index]\n",
    "        if value not in bucket:\n",
    "            bucket.append(value)\n",
    "\n",
    "    def contains(self, value):\n",
    "        #Check if a value exists in the set\n",
    "        index = self.hash_function(value)\n",
    "        bucket = self.buckets[index]\n",
    "        return value in bucket\n",
    "    \n",
    "    def remove(self, value):\n",
    "        #Remove a value\n",
    "        index = self.hash_function(value)\n",
    "        bucket = self.buckets[index]\n",
    "        if value in bucket:\n",
    "            bucket.remove(value)\n",
    "\n",
    "    def print_set(self):\n",
    "        #Print all elements in the hash set\n",
    "        print(\"Hash Set contains:\")\n",
    "        for index, bucket in enumerate(self.buckets):\n",
    "            print(f\"Bucket {index}: {bucket}\")\n",
    "\n",
    "# Creating the Hash Set from the simulation\n",
    "hash_set = SimpleHashSet(size=10)\n",
    "\n",
    "hash_set.add(\"Charlotte\")\n",
    "hash_set.add(\"Thomas\")\n",
    "hash_set.add(\"Jens\")\n",
    "hash_set.add(\"Peter\")\n",
    "hash_set.add(\"Lisa\")\n",
    "hash_set.add(\"Adele\")\n",
    "hash_set.add(\"Michaela\")\n",
    "hash_set.add(\"Bob\")\n",
    "\n",
    "hash_set.print_set()\n",
    "\n",
    "print(\"\\n'Peter' is in the set:\", hash_set.contains('Peter'))\n",
    "\n",
    "print(\"Removing 'Peter'\")\n",
    "hash_set.remove('Peter')\n",
    "\n",
    "print(\"'Peter' is in the set:\", hash_set.contains('Peter'))\n",
    "\n",
    "print(\"'Adele' has hash code:\", hash_set.hash_function('Adele'))"
   ]
  },
  {
   "cell_type": "markdown",
   "metadata": {},
   "source": [
    "# DSA Hash Maps"
   ]
  },
  {
   "cell_type": "code",
   "execution_count": 14,
   "metadata": {},
   "outputs": [],
   "source": [
    "# A Hash Map is a form of Hash Table data structure that usually holds a large number of entries. Using a Hash Map we can search, add, modify, and remove \n",
    "# entries really fast. Hash Maps are used to find detailed information about something. \n",
    "\n",
    "\n",
    "# Entry: Consists of a key and a value, forming a key-value pair.\n",
    "# Key: Unique for each entry in the Hash Map. Used to generate a hash code determining the entry's bucket in the Hash Map.\n",
    "#  This ensures that every entry can be efficiently located.\n",
    "# Hash Code: A number generated from an entry's key, to determine what bucket that Hash Map entry belongs to.\n",
    "# Bucket: A Hash Map consists of many such buckets, or containers, to store entries.\n",
    "# Value: Can be nearly any kind of information, like name, birth date, and address of a person. The value can be many different kinds of information combined.\n"
   ]
  },
  {
   "cell_type": "markdown",
   "metadata": {},
   "source": [
    "### Finding The Hash Code."
   ]
  },
  {
   "cell_type": "code",
   "execution_count": null,
   "metadata": {},
   "outputs": [],
   "source": [
    "# A hash code is generated by a hash function. \n",
    "\n",
    "# The hash function in the simulation above takes the numbers in the social security number (not the dash), add them together, and does a modulo 10 operation\n",
    "# (% 10) on the sum  of characters to get the hash code as a number from 0 to 9."
   ]
  },
  {
   "cell_type": "markdown",
   "metadata": {},
   "source": [
    "### Hash Map Implementation"
   ]
  },
  {
   "cell_type": "code",
   "execution_count": 15,
   "metadata": {},
   "outputs": [
    {
     "name": "stdout",
     "output_type": "stream",
     "text": [
      "Hash map contents:\n",
      "Bucket 0: [('123-4569', 'Jens')]\n",
      "Bucket 1: []\n",
      "Bucket 2: [('123-4570', 'Peter')]\n",
      "Bucket 3: [('123-4571', 'Lisa')]\n",
      "Bucket 4: []\n",
      "Bucket 5: [('123-4672', 'Adele'), ('123-4573', 'Michaela')]\n",
      "Bucket 6: []\n",
      "Bucket 7: []\n",
      "Bucket 8: [('123-4567', 'Charlotte'), ('123-6574', 'Bob')]\n",
      "Bucket 9: [('123-4568', 'Thomas')]\n",
      "\n",
      "Name associated with '123-4570': Peter\n",
      "Updating the name for '123-4570' to 'James'\n",
      "Name associated with '123-4570': James\n"
     ]
    }
   ],
   "source": [
    "class SimpleHashMap:\n",
    "    def __init__(self, size=100):\n",
    "        self.size = size\n",
    "        self.buckets = [[] for _ in range(size)] # A list of buckets, each is a list (to handle collisions)\n",
    "\n",
    "    def hash_function(self, key):\n",
    "        #Sum only the numerical values of the key, ignoring non-numerical characters\n",
    "        numeric_sum = sum(int(char) for char in key if char.isdigit())\n",
    "        return numeric_sum % 10 # Perform modulo 10 on the sum \n",
    "    \n",
    "    def put(self, key, value):\n",
    "        #Add or update a key-value pair\n",
    "        index = self.hash_function(key)\n",
    "        bucket = self.buckets[index]\n",
    "        for i, (k, v) in enumerate(bucket):\n",
    "            if k == key:\n",
    "                bucket[i] = (key, value)  #update existing key\n",
    "                return\n",
    "        bucket.append((key, value)) # Add a new key-value pair if not found\n",
    "\n",
    "    def get(self, key):\n",
    "        # Retrieve a value by key\n",
    "        index = self.hash_function(key)\n",
    "        bucket = self.buckets[index]\n",
    "        for k, v in bucket:\n",
    "            if k == key:\n",
    "                return v\n",
    "        return None  #Key not found\n",
    "    \n",
    "    def remove(self, key):\n",
    "        # Remove a key-value pair\n",
    "        index = self.hash_function(key)\n",
    "        bucket = self.buckets[index]\n",
    "        for i, (k, v) in enumerate(bucket):\n",
    "            if k == key:\n",
    "                del bucket[i]  #Remove the key-value pair\n",
    "                return \n",
    "            \n",
    "    def print_map(self):\n",
    "        #Print all key-value pairs in the hash map\n",
    "        print(\"Hash map contents:\")\n",
    "        for index, bucket in enumerate(self.buckets):\n",
    "            print(f\"Bucket {index}: {bucket}\")\n",
    "\n",
    "# Creating the Hash Map from the simulation\n",
    "hash_map = SimpleHashMap(size=10)\n",
    "\n",
    "#Adding some entries\n",
    "hash_map.put(\"123-4567\", \"Charlotte\")\n",
    "hash_map.put(\"123-4568\", \"Thomas\")\n",
    "hash_map.put(\"123-4569\", \"Jens\")\n",
    "hash_map.put(\"123-4570\", \"Peter\")\n",
    "hash_map.put(\"123-4571\", \"Lisa\")\n",
    "hash_map.put(\"123-4672\", \"Adele\")\n",
    "hash_map.put(\"123-4573\", \"Michaela\")\n",
    "hash_map.put(\"123-6574\", \"Bob\")\n",
    "\n",
    "\n",
    "hash_map.print_map()\n",
    "\n",
    "# Demonstrating retrieval\n",
    "print(\"\\nName associated with '123-4570':\", hash_map.get('123-4570'))\n",
    "\n",
    "print(\"Updating the name for '123-4570' to 'James'\")\n",
    "hash_map.put(\"123-4570\", \"James\")\n",
    "\n",
    "#Checking if Peter is still there \n",
    "print(\"Name associated with '123-4570':\", hash_map.get(\"123-4570\"))"
   ]
  },
  {
   "cell_type": "code",
   "execution_count": null,
   "metadata": {},
   "outputs": [],
   "source": []
  },
  {
   "cell_type": "code",
   "execution_count": null,
   "metadata": {},
   "outputs": [],
   "source": []
  }
 ],
 "metadata": {
  "kernelspec": {
   "display_name": "Python 3",
   "language": "python",
   "name": "python3"
  },
  "language_info": {
   "codemirror_mode": {
    "name": "ipython",
    "version": 3
   },
   "file_extension": ".py",
   "mimetype": "text/x-python",
   "name": "python",
   "nbconvert_exporter": "python",
   "pygments_lexer": "ipython3",
   "version": "3.12.2"
  }
 },
 "nbformat": 4,
 "nbformat_minor": 2
}
