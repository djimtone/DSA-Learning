{
 "cells": [
  {
   "cell_type": "markdown",
   "metadata": {},
   "source": [
    "# Max Values"
   ]
  },
  {
   "cell_type": "code",
   "execution_count": 5,
   "metadata": {},
   "outputs": [
    {
     "name": "stdout",
     "output_type": "stream",
     "text": [
      "90\n"
     ]
    }
   ],
   "source": [
    "my_array = [5, 9, 13, 67, 0, 90, 18]   # Here we have a Array contain values\n",
    "max_val = my_array[0]    # we affect the first value to max_val\n",
    "\n",
    "for i in my_array:    # Here we browse the array\n",
    "    if i > max_val:    # we compare the values\n",
    "        max_val = i        \n",
    "print(max_val)         # we display the max value"
   ]
  },
  {
   "cell_type": "markdown",
   "metadata": {},
   "source": [
    "# Fibonnaci"
   ]
  },
  {
   "cell_type": "markdown",
   "metadata": {},
   "source": [
    "#"
   ]
  },
  {
   "cell_type": "code",
   "execution_count": 2,
   "metadata": {},
   "outputs": [
    {
     "name": "stdout",
     "output_type": "stream",
     "text": [
      "0\n",
      "1\n",
      "1\n",
      "2\n",
      "3\n",
      "5\n",
      "8\n",
      "13\n",
      "21\n",
      "34\n",
      "55\n",
      "89\n",
      "144\n",
      "233\n",
      "377\n",
      "610\n",
      "987\n",
      "1597\n",
      "2584\n",
      "4181\n",
      "6765\n",
      "10946\n"
     ]
    }
   ],
   "source": [
    "fibo0 = 0    # The first fibo take the value 0\n",
    "fibo1 = 1    #The last fibo take the value 1\n",
    "\n",
    "print(fibo0)   # display the value of fibo 0\n",
    "print(fibo1)    # display the value of fibo 1\n",
    "\n",
    "for fibo in range(20):  # Here we take the first twenty \n",
    "    new_fibo = fibo0 + fibo1  #At new_fibo we add fibo0 plus fibo1\n",
    "    print(new_fibo)    #we display the new fibo\n",
    "\n",
    "    fibo0 = fibo1   #fibo0 take the value fibo1\n",
    "    fibo1 = new_fibo   # fibo1 take the new_fibo"
   ]
  },
  {
   "cell_type": "code",
   "execution_count": 14,
   "metadata": {},
   "outputs": [
    {
     "data": {
      "text/plain": [
       "1"
      ]
     },
     "execution_count": 14,
     "metadata": {},
     "output_type": "execute_result"
    }
   ],
   "source": []
  },
  {
   "cell_type": "code",
   "execution_count": null,
   "metadata": {},
   "outputs": [],
   "source": []
  }
 ],
 "metadata": {
  "kernelspec": {
   "display_name": "Python 3",
   "language": "python",
   "name": "python3"
  },
  "language_info": {
   "codemirror_mode": {
    "name": "ipython",
    "version": 3
   },
   "file_extension": ".py",
   "mimetype": "text/x-python",
   "name": "python",
   "nbconvert_exporter": "python",
   "pygments_lexer": "ipython3",
   "version": "3.12.2"
  }
 },
 "nbformat": 4,
 "nbformat_minor": 2
}
