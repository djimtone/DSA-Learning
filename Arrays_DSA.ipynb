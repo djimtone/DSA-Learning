{
 "cells": [
  {
   "cell_type": "markdown",
   "metadata": {},
   "source": [
    "# DSA Arrays"
   ]
  },
  {
   "cell_type": "code",
   "execution_count": 3,
   "metadata": {},
   "outputs": [
    {
     "name": "stdout",
     "output_type": "stream",
     "text": [
      "8\n"
     ]
    }
   ],
   "source": [
    "my_array = [2,39, 90, 376, 973, 5, 8]\n",
    "print(my_array[6])"
   ]
  },
  {
   "cell_type": "code",
   "execution_count": 1,
   "metadata": {},
   "outputs": [
    {
     "name": "stdout",
     "output_type": "stream",
     "text": [
      "5\n"
     ]
    }
   ],
   "source": [
    "#Find the lowest value in an Array\n",
    "my_array = [28, 14, 9, 45, 90, 100, 29, 5, 57]    #Our array or list\n",
    "min_val = my_array[0]    #we initialize our min_val with the first value in the array\n",
    "\n",
    "for i in my_array:    #we browse our array\n",
    "    if i < min_val:   #we make a condtion here to compare if the new value in array is less than min_val \n",
    "        min_val = i      # if yes min_val take the new value\n",
    "print(min_val)     # we display the min_val"
   ]
  },
  {
   "cell_type": "markdown",
   "metadata": {},
   "source": [
    "# DSA Bubble Sort"
   ]
  },
  {
   "cell_type": "code",
   "execution_count": 1,
   "metadata": {},
   "outputs": [
    {
     "name": "stdout",
     "output_type": "stream",
     "text": [
      "Sorted array: [5, 11, 12, 22, 25, 34, 64, 90]\n"
     ]
    }
   ],
   "source": [
    "# Bubble sort is an algorithm that sorts an array from the lowest value to the highest value\n",
    "\n",
    "#Procedure to solve the problem\n",
    "# 1. Go through the array, one value at a time.\n",
    "# 2. For each value, compare the value with the next value.\n",
    "# 3. If the value is higher than the next one, swap the values so that the highest value come last.\n",
    "# 4. Go through the array as many times \n",
    "\n",
    "my_array = [64, 34, 25, 12, 22, 11, 90, 5]\n",
    "\n",
    "n = len(my_array)\n",
    "\n",
    "for i in range(n-1):\n",
    "    for j in range(n-i-1):\n",
    "        if my_array[j] > my_array[j+1]:\n",
    "            my_array[j], my_array[j+1] = my_array[j+1], my_array[j]\n",
    "\n",
    "print(\"Sorted array:\", my_array)"
   ]
  },
  {
   "cell_type": "markdown",
   "metadata": {},
   "source": [
    "# Bubble Sort Improvement"
   ]
  },
  {
   "cell_type": "code",
   "execution_count": 6,
   "metadata": {},
   "outputs": [
    {
     "name": "stdout",
     "output_type": "stream",
     "text": [
      "Sorted array: [3, 7, 9, 11, 12]\n"
     ]
    }
   ],
   "source": [
    "# The Bubble Sort can be improved a little bit more\n",
    "# Imagine that the array is almost sorted already, with the lowest numbers at the start\n",
    "\n",
    "my_array = [7, 3, 9, 12, 11]\n",
    "\n",
    "n = len(my_array)\n",
    "\n",
    "for i in range(n-1):\n",
    "    swapped = False\n",
    "    for j in range(n-i-1):\n",
    "        if my_array[j] > my_array[j+1]:\n",
    "            my_array[j], my_array[j+1] = my_array[j+1], my_array[j]\n",
    "            swapped = True\n",
    "    if not swapped:\n",
    "        break\n",
    "\n",
    "print(\"Sorted array:\", my_array)\n"
   ]
  },
  {
   "cell_type": "code",
   "execution_count": 15,
   "metadata": {},
   "outputs": [
    {
     "name": "stdout",
     "output_type": "stream",
     "text": [
      "[3, 3, 4, 5, 5, 6, 7, 38, 98]\n"
     ]
    }
   ],
   "source": [
    "tableau =[3, 4, 5, 6,7 ,5, 98, 38, 3]\n",
    "\n",
    "n = len(tableau)\n",
    "\n",
    "for i in range(n-1):\n",
    "    for j in range(n-i-1):\n",
    "        if tableau[j]> tableau[j+1]:\n",
    "            tableau[j], tableau[j+1] = tableau[j+1], tableau[j]\n",
    "print(tableau)"
   ]
  },
  {
   "cell_type": "markdown",
   "metadata": {},
   "source": [
    "# DSA Selection Sort"
   ]
  },
  {
   "cell_type": "code",
   "execution_count": 2,
   "metadata": {},
   "outputs": [
    {
     "name": "stdout",
     "output_type": "stream",
     "text": [
      "Sorted array: [1, 1, 2, 3, 4, 5, 9]\n"
     ]
    }
   ],
   "source": [
    "my_array = [3, 1, 4, 1, 5, 9, 2]  # Example array\n",
    "n = len(my_array)\n",
    "\n",
    "for i in range(n):\n",
    "    min_index = i\n",
    "    for j in range(i + 1, n):  # Search for the minimum index in the remaining array\n",
    "        if my_array[j] < my_array[min_index]:\n",
    "            min_index = j\n",
    "    \n",
    "    # Swap instead of modifying array length\n",
    "    my_array[i], my_array[min_index] = my_array[min_index], my_array[i]\n",
    "\n",
    "print(\"Sorted array:\", my_array)\n"
   ]
  },
  {
   "cell_type": "markdown",
   "metadata": {},
   "source": [
    "# DSA Selection Sort Shifting Problem"
   ]
  },
  {
   "cell_type": "code",
   "execution_count": 1,
   "metadata": {},
   "outputs": [
    {
     "name": "stdout",
     "output_type": "stream",
     "text": [
      "Sorted array [5, 11, 12, 22, 25, 34, 64, 90]\n"
     ]
    }
   ],
   "source": [
    "my_array = [64, 34, 25, 12, 22, 11, 90, 5]\n",
    "\n",
    "n = len(my_array)\n",
    "for i in range(n):\n",
    "    min_index = i\n",
    "    for j in range(i+1, n):\n",
    "        if my_array[j] < my_array[min_index]:\n",
    "            min_index = j\n",
    "    my_array[i], my_array[min_index] = my_array[min_index], my_array[i]\n",
    "\n",
    "print(\"Sorted array\", my_array)"
   ]
  },
  {
   "cell_type": "markdown",
   "metadata": {},
   "source": [
    "# DSA Insertion Sort"
   ]
  },
  {
   "cell_type": "code",
   "execution_count": 2,
   "metadata": {},
   "outputs": [
    {
     "name": "stdout",
     "output_type": "stream",
     "text": [
      "Sorted array: [5, 11, 12, 22, 25, 34, 64, 90]\n"
     ]
    }
   ],
   "source": [
    "#The Insertion Sort Algorithm uses one part of the array to hold the sorted values, and the other part of the array to hold values that are not sorted yet.\n",
    "#The algorithm takes one value at a time from unsorted part of the array and puts it into the right place in the sorted part of the array, until the array\n",
    "# is sorted\n",
    "\n",
    "#How It Works\n",
    "#1. Take the first value form the unsorted part of the array\n",
    "#2. Move the value into the correct place in the sorted part of the array\n",
    "#3. Go through the unsorted part of the array again as many times as there are values.\n",
    "\n",
    "#To implement the insertion sort algorithm in programming language, we need:\n",
    "my_array = [64, 34, 25, 12, 22, 11, 90, 5]\n",
    "\n",
    "n = len(my_array)\n",
    "for i in range(1,n):\n",
    "    insert_index = i\n",
    "    current_value = my_array.pop(i)\n",
    "    for j in range(i-1, -1, -1):\n",
    "        if my_array[j] > current_value:\n",
    "            insert_index = j\n",
    "\n",
    "    my_array.insert(insert_index, current_value)\n",
    "\n",
    "print(\"Sorted array:\", my_array)"
   ]
  },
  {
   "cell_type": "markdown",
   "metadata": {},
   "source": [
    "# DSA Quicksort"
   ]
  },
  {
   "cell_type": "code",
   "execution_count": 1,
   "metadata": {},
   "outputs": [
    {
     "name": "stdout",
     "output_type": "stream",
     "text": [
      "Sorted array: [5, 11, 12, 22, 25, 34, 64, 90]\n"
     ]
    }
   ],
   "source": [
    "# How it works\n",
    "\n",
    "#1. Choose a value in the array to be the pivot element\n",
    "#2. Order the rest of the array so that lower values than pivot element are on the left, and higher values are on the right.\n",
    "#3. Swap the pivot element with the first element of the higher values so that the pivot element lands in between the lower and higher values.\n",
    "#4. Do the same operations(recursively) for the subarrays on the left and right side of the pivot.\n",
    "\n",
    "def partititon(array, low, high):\n",
    "    pivot = array[high]\n",
    "    i = low - 1\n",
    "\n",
    "    for j in range(low, high):\n",
    "        if array[j] <= pivot:\n",
    "            i += 1\n",
    "            array[i], array[j] = array[j], array[i]\n",
    "\n",
    "    array[i+1], array[high] = array[high], array[i+1]\n",
    "    return i+1\n",
    "\n",
    "def quicksort(array, low=0, high=None):\n",
    "    if high is None:\n",
    "        high = len(array) - 1\n",
    "\n",
    "    if low < high:\n",
    "        pivot_index = partititon(array, low, high)\n",
    "        quicksort(array, low, pivot_index - 1)\n",
    "        quicksort(array, pivot_index+1, high)\n",
    "\n",
    "my_array = [64, 34, 25, 12, 22, 11, 90, 5]\n",
    "quicksort(my_array)\n",
    "print(\"Sorted array:\", my_array)"
   ]
  },
  {
   "cell_type": "markdown",
   "metadata": {},
   "source": [
    "# DSA Counting Sort"
   ]
  },
  {
   "cell_type": "code",
   "execution_count": 3,
   "metadata": {},
   "outputs": [
    {
     "name": "stdout",
     "output_type": "stream",
     "text": [
      "Sorted Array [1, 2, 2, 2, 3, 3, 3, 4, 5, 6, 6]\n"
     ]
    }
   ],
   "source": [
    "#The counting sort algorithm sorts an array by counting the number of times each value occurs\n",
    "# How it works\n",
    "\n",
    "#1. Create a new array for counting how many there are of the different values\n",
    "#2. Go through the array that needs to be sorted.\n",
    "#3. For each value, count it by increasing the counting array at the corresponding index\n",
    "#4. After counting the values, go through the counting array to create the sorted array.\n",
    "#5. For each count in the counting array, create the correct number of elements, with values that correspond to the counting array index.\n",
    "\n",
    "\n",
    "def countingSort(arr):\n",
    "    max_val = max(arr)\n",
    "    count = [0] * (max_val + 1)\n",
    "\n",
    "    while len(arr) > 0:\n",
    "        num = arr.pop(0)\n",
    "        count[num] += 1\n",
    "\n",
    "    for i in range(len(count)):\n",
    "        while count[i] > 0:\n",
    "            arr.append(i)\n",
    "            count[i] -= 1\n",
    "    return arr\n",
    "\n",
    "unsortedArr = [4,2,2,6,3,3,1,6,5,2,3]\n",
    "sortedArr = countingSort(unsortedArr)\n",
    "\n",
    "print(\"Sorted Array\", sortedArr)"
   ]
  },
  {
   "cell_type": "markdown",
   "metadata": {},
   "source": [
    "# DSA Radix Sort"
   ]
  },
  {
   "cell_type": "code",
   "execution_count": 6,
   "metadata": {},
   "outputs": [
    {
     "name": "stdout",
     "output_type": "stream",
     "text": [
      "Original array: [170, 45, 75, 90, 802, 24, 2, 66]\n",
      "Sorted array: [2, 24, 45, 66, 75, 90, 170, 802]\n"
     ]
    }
   ],
   "source": [
    "#The radix sort algorithm sorts an array by individual digits, starting with the least significant digit (the rightmost one)\n",
    "\n",
    "# How it works\n",
    "#1. Start with the least significant digit(rightmost).\n",
    "#2. Sort the values based on the digit in focus by first putting the values in the correct bucket based on the digit in focus, \n",
    "# and then put them back into array in the correct order.\n",
    "#3. Move to the next digit, and sort again, like in the step above, until there are no digits left.\n",
    "\n",
    "#To implement the Radix Sort algorithms we need:\n",
    "#1. An array with non negative integers that needs to be sorted.\n",
    "#2. A two dimensional array with index 0 to 9 to hold values with the current radix in focus.\n",
    "#3. A loop that takes values from the unsorted array and places them in the correct position in the two dimensional radix array.\n",
    "#4. A loop that puts values back into the initial array from the radix array.\n",
    "#5. An outer loop that runs as many times as there are digits in the highest value.\n",
    "\n",
    "myArray = [170, 45, 75, 90, 802, 24, 2, 66]\n",
    "print(\"Original array:\", myArray)\n",
    "radixArray = [[], [], [], [], [], [], [], [], [], []]\n",
    "maxVal = max(myArray)\n",
    "exp = 1\n",
    "\n",
    "while maxVal // exp > 0:\n",
    "\n",
    "    while len(myArray) > 0:\n",
    "        val = myArray.pop()\n",
    "        radixIndex = (val // exp) % 10\n",
    "        radixArray[radixIndex].append(val)\n",
    "\n",
    "    for bucket in radixArray:\n",
    "        while len(bucket) > 0:\n",
    "            val = bucket.pop()\n",
    "            myArray.append(val)\n",
    "\n",
    "    exp *= 10\n",
    "\n",
    "print(\"Sorted array:\", myArray)"
   ]
  },
  {
   "cell_type": "code",
   "execution_count": 7,
   "metadata": {},
   "outputs": [
    {
     "name": "stdout",
     "output_type": "stream",
     "text": [
      "Original array: [170, 45, 75, 90, 802, 24, 2, 66]\n",
      "Sorted array: [2, 24, 45, 66, 75, 90, 170, 802]\n"
     ]
    }
   ],
   "source": [
    "def bubbleSort(arr):\n",
    "    n = len(arr)\n",
    "    for i in range(n):\n",
    "        for j in range(0, n - i - 1):\n",
    "            if arr[j] > arr[j + 1]:\n",
    "                arr[j], arr[j + 1] = arr[j + 1], arr[j]\n",
    "                \n",
    "def radixSortWithBubbleSort(arr):\n",
    "    max_val = max(arr)\n",
    "    exp = 1\n",
    "    \n",
    "    while max_val // exp > 0:\n",
    "        radixArray = [[],[],[],[],[],[],[],[],[],[]]\n",
    "        \n",
    "        for num in arr:\n",
    "            radixIndex = (num // exp) % 10\n",
    "            radixArray[radixIndex].append(num)\n",
    "        \n",
    "        for bucket in radixArray:\n",
    "            bubbleSort(bucket)\n",
    "        \n",
    "        i = 0\n",
    "        for bucket in radixArray:\n",
    "            for num in bucket:\n",
    "                arr[i] = num\n",
    "                i += 1\n",
    "        \n",
    "        exp *= 10\n",
    "\n",
    "myArray = [170, 45, 75, 90, 802, 24, 2, 66]\n",
    "print(\"Original array:\", myArray)\n",
    "radixSortWithBubbleSort(myArray)\n",
    "print(\"Sorted array:\", myArray)"
   ]
  },
  {
   "cell_type": "markdown",
   "metadata": {},
   "source": [
    "# DSA Merge Sort"
   ]
  },
  {
   "cell_type": "code",
   "execution_count": 1,
   "metadata": {},
   "outputs": [
    {
     "name": "stdout",
     "output_type": "stream",
     "text": [
      "Sorted array: [-13, -10, 3, 6, 7, 15, 23.5, 55]\n"
     ]
    }
   ],
   "source": [
    "#The merge sort algorithm is a divide-and-conquer algorithm that sorts an array by first breaking it down into smaller arrays, and then building the array\n",
    "# back together the correct way so that it is sorted\n",
    "\n",
    "#Divide: The algorithm starts with breaking up the array into smaller and smaller pieces until one such sub-array only consists of one element\n",
    "#Conquer: The algorithm merges the small pieces of the array back together by putting the lowest values first, resulting in a sorted array\n",
    "\n",
    "#How it works\n",
    "#1. Divide the unsorted array into two sub-arrays, half the size of the original\n",
    "#2. Continue to divide the sub-arrays as long as the current piece of the array has more than one element.\n",
    "#3. Merge two sub-arrays together by always putting the lowest value first.\n",
    "#4. keep merging until there are no sub-arrays left.\n",
    "\n",
    "#Merge Sort Implementation\n",
    "#To implement the merge sort algorithm we need:\n",
    "#1. An array with values that needs to be sorted\n",
    "#2. A function that takes an array, splits it in two, and calls itself with each half of that array so that the arrays are split again and again recursively,\n",
    "# until a sub-array only consist of one value\n",
    "#3. Another function that merges the sub-arrays back together in a sorted way.\n",
    "# \n",
    "def mergeSort(arr):\n",
    "    if len(arr) <= 1:\n",
    "        return arr\n",
    "\n",
    "    mid = len(arr) // 2\n",
    "    leftHalf = arr[:mid]\n",
    "    rightHalf = arr[mid:]\n",
    "\n",
    "    sortedLeft = mergeSort(leftHalf)\n",
    "    sortedRight = mergeSort(rightHalf)\n",
    "\n",
    "    return merge(sortedLeft, sortedRight)\n",
    "\n",
    "def merge(left, right):\n",
    "    result = []\n",
    "    i = j = 0\n",
    "\n",
    "    while i < len(left) and j < len(right):\n",
    "        if left[i] < right[j]:\n",
    "            result.append(left[i])\n",
    "            i += 1\n",
    "        else:\n",
    "            result.append(right[j])\n",
    "            j += 1\n",
    "\n",
    "    result.extend(left[i:])\n",
    "    result.extend(right[j:])\n",
    "\n",
    "    return result\n",
    "\n",
    "unsortedArr = [3, 7, 6, -10, 15, 23.5, 55, -13]\n",
    "sortedArr = mergeSort(unsortedArr)\n",
    "print(\"Sorted array:\", sortedArr) "
   ]
  },
  {
   "cell_type": "markdown",
   "metadata": {},
   "source": [
    "# DSA Merge Sort without Recursion"
   ]
  },
  {
   "cell_type": "code",
   "execution_count": 2,
   "metadata": {},
   "outputs": [
    {
     "name": "stdout",
     "output_type": "stream",
     "text": [
      "Sorted array: [-13, -10, 3, 6, 7, 15, 23.5, 55]\n"
     ]
    }
   ],
   "source": [
    "def merge(left, right):\n",
    "    result = []\n",
    "    i = j = 0\n",
    "    \n",
    "    while i < len(left) and j < len(right):\n",
    "        if left[i] < right[j]:\n",
    "            result.append(left[i])\n",
    "            i += 1\n",
    "        else:\n",
    "            result.append(right[j])\n",
    "            j += 1\n",
    "            \n",
    "    result.extend(left[i:])\n",
    "    result.extend(right[j:])\n",
    "    \n",
    "    return result\n",
    "\n",
    "def mergeSort(arr):\n",
    "    step = 1  # Starting with sub-arrays of length 1\n",
    "    length = len(arr)\n",
    "    \n",
    "    while step < length:\n",
    "        for i in range(0, length, 2 * step):\n",
    "            left = arr[i:i + step]\n",
    "            right = arr[i + step:i + 2 * step]\n",
    "            \n",
    "            merged = merge(left, right)\n",
    "            \n",
    "            # Place the merged array back into the original array\n",
    "            for j, val in enumerate(merged):\n",
    "                arr[i + j] = val\n",
    "                \n",
    "        step *= 2  # Double the sub-array length for the next iteration\n",
    "        \n",
    "    return arr\n",
    "\n",
    "unsortedArr = [3, 7, 6, -10, 15, 23.5, 55, -13]\n",
    "sortedArr = mergeSort(unsortedArr)\n",
    "print(\"Sorted array:\", sortedArr)"
   ]
  },
  {
   "cell_type": "markdown",
   "metadata": {},
   "source": [
    "# DSA Linear Search"
   ]
  },
  {
   "cell_type": "code",
   "execution_count": null,
   "metadata": {},
   "outputs": [],
   "source": [
    "#The linear search algorithm searches through an array and returns the index of the value it searches for.\n",
    "\n",
    "#How it works\n",
    "#1. Go through the array value by value from the start.\n",
    "#2. Compare each value to check if it is equal to the value we are looking for.\n",
    "#3. If the value is found, return the index of that value.\n",
    "#4. If the end of array is reached and the value is not found, return -1 to indicate that the value was not found.\n",
    "\n",
    "def linearSearch(arr, targetVal):\n",
    "    for i in range(len(arr)):\n",
    "        if arr[i] == targetVal:\n",
    "            return i\n",
    "    return -1\n",
    "\n",
    "arr = [3, 7, 2, 9, 5]\n",
    "targetVal = 9\n",
    "\n",
    "result = linearSearch(arr, targetVal)\n",
    "\n",
    "if result != -1:\n",
    "    print(\"Value\",targetVal,\"found at index\",result)\n",
    "else:\n",
    "    print(\"Value\",targetVal,\"not found\")"
   ]
  },
  {
   "cell_type": "code",
   "execution_count": null,
   "metadata": {},
   "outputs": [],
   "source": []
  },
  {
   "cell_type": "code",
   "execution_count": null,
   "metadata": {},
   "outputs": [],
   "source": []
  },
  {
   "cell_type": "code",
   "execution_count": null,
   "metadata": {},
   "outputs": [],
   "source": []
  },
  {
   "cell_type": "code",
   "execution_count": null,
   "metadata": {},
   "outputs": [],
   "source": []
  },
  {
   "cell_type": "code",
   "execution_count": null,
   "metadata": {},
   "outputs": [],
   "source": []
  },
  {
   "cell_type": "code",
   "execution_count": null,
   "metadata": {},
   "outputs": [],
   "source": []
  },
  {
   "cell_type": "markdown",
   "metadata": {},
   "source": []
  }
 ],
 "metadata": {
  "kernelspec": {
   "display_name": "Python 3",
   "language": "python",
   "name": "python3"
  },
  "language_info": {
   "codemirror_mode": {
    "name": "ipython",
    "version": 3
   },
   "file_extension": ".py",
   "mimetype": "text/x-python",
   "name": "python",
   "nbconvert_exporter": "python",
   "pygments_lexer": "ipython3",
   "version": "3.12.2"
  }
 },
 "nbformat": 4,
 "nbformat_minor": 2
}
